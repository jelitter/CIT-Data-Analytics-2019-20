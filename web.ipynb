{
"cells": [
{
"cell_type": "markdown",
"metadata": {},
"source": [
"# Comparison of Categorical Variable Encoding Methods"
]
},
{
"cell_type": "markdown",
"metadata": {},
"source": [
"<p class=\"summary\">Introduction of OneHot Encoding and other categorical variable encoding methods and performance evaluation using actual data</p>"
]
},
{
"cell_type": "markdown",
"metadata": {},
"source": [
"## Overview"
]
},
{
"cell_type": "markdown",
"metadata": {},
"source": [
"Speaking of encoding methods of categorical variable, OneHot Encoding is famous, but there are various other methods.  \n",
"In this tutorial we introduce some encoding methods for categorical variables and apply them to actual data.  \n",
"Then, we train the neural network model with the applied data and verify the change of metrics by preprocessing methods. "
]
},
{
"cell_type": "markdown",
"metadata": {},
"source": [
"## Required Libraries"
]
},
{
"cell_type": "markdown",
"metadata": {},
"source": [
"ReNom==2.6\n",
"category-encoders==1.2.8  \n",
"matplotlib==2.1.2  \n",
"numpy==1.14.5  \n",
"pandas==0.22.0  \n",
"scikit-learn==0.19.1  \n",
"seaborn==0.8.1  "
]
},
{
"cell_type": "code",
"execution_count": 1,
"metadata": {},
"outputs": [],
"source": [
"import pandas as pd\n",
"import numpy as np\n",
"import matplotlib.pyplot as plt\n",
"import seaborn as sns\n",
"from IPython.display import display\n",
"import warnings\n",
"warnings.simplefilter(action='ignore')\n",
"\n",
"import category_encoders as ce\n",
"from sklearn.preprocessing import StandardScaler, MinMaxScaler\n",
"\n",
"\n",
"import renom as rm\n",
"from renom.optimizer import Sgd, Adam\n",
"# from renom.cuda import set_cuda_active\n",
"\n",
"from sklearn.metrics import confusion_matrix, classification_report\n",
"\n",
"pd.set_option('display.max_columns', None)\n",
"pd.set_option('display.max_rows', None)\n",
"np.random.seed(1234)\n",
"\n",
"# set_cuda_active(False)\n",
"\n",
"%matplotlib inline"
]
},
{
"cell_type": "markdown",
"metadata": {},
"source": [
"## Dataset"
]
},
{
"cell_type": "markdown",
"metadata": {},
"source": [
"Solve the classification problem using [\"adult dataset\"](https://archive.ics.uci.edu/ml/datasets/adult).  \n",
"This dataset is census data and contains feature values of each person's attributes such as sex and age, and the label whether income exceeds $50K/yr.  \n",
"This dataset, problem settings, models and learning methods are based on [\"Annual Income Classification\"](http://www.renom.jp/notebooks/clustering/annual-income-classification/notebook.html)"
]
},
{
"cell_type": "markdown",
"metadata": {},
"source": [
"## Import and preprocess data"
]
},
{
"cell_type": "code",
"execution_count": 2,
"metadata": {},
"outputs": [],
"source": [
"def make_col_names():\n",
"    \"\"\"\n",
"    Extract column names from data description.\n",
"    \"\"\"\n",
"    col_names = []\n",
"    for i, line in enumerate(open('../input/adult/adult.names', 'r')):\n",
"        # column names other than \"annual income\" are written on the left end after line 96.\n",
"        if i >= 96:\n",
"            col_name = line.split(\":\")[0]\n",
"            col_names.append(col_name)\n",
"    col_names.append('annual-income')\n",
"    \n",
"    return col_names"
]
},
{
"cell_type": "code",
"execution_count": 3,
"metadata": {},
"outputs": [],
"source": [
"def load_data(path, col_names, is_data_train=True):\n",
"    # First line of test data is unnecessary.\n",
"    skiprows = 0 if is_data_train else 1\n",
"    df = pd.read_csv(path, header=None, encoding='utf-8', skiprows=skiprows)\n",
"    df.columns = col_names\n",
"    \n",
"    # Display the number of records before delete missing values.\n",
"    print('the number of records before delete missing values: {}'.format(df.shape[0]))\n",
"    \n",
"    # Replace the missing value's character to np.nan.\n",
"    # Unify the different written forms.\n",
"    df.replace({' ?': np.nan, ' <=50K.': ' <=50K', ' >50K.': ' >50K'}, inplace=True)\n",
"    \n",
"    # Print the number of rows containing missing values per column.\n",
"    # Delete row that contains even one missing value.\n",
"    print('the number of missing values by column')\n",
"    print(df.isnull().sum())\n",
"    df.dropna(axis=0, inplace=True)\n",
"    \n",
"    # Display the  number of records after delete missing values.\n",
"    print('the number of records after delete missing values: {}'.format(df.shape[0]))\n",
"    return df"
]
},
{
"cell_type": "code",
"execution_count": 4,
"metadata": {},
"outputs": [],
"source": [
"col_names = make_col_names()"
]
},
{
"cell_type": "code",
"execution_count": 5,
"metadata": {},
"outputs": [
{
"name": "stdout",
"output_type": "stream",
"text": [
"the number of records before delete missing values: 32561\n",
"the number of missing values by column\n",
"age                  0\n",
"workclass         1836\n",
"fnlwgt               0\n",
"education            0\n",
"education-num        0\n",
"marital-status       0\n",
"occupation        1843\n",
"relationship         0\n",
"race                 0\n",
"sex                  0\n",
"capital-gain         0\n",
"capital-loss         0\n",
"hours-per-week       0\n",
"native-country     583\n",
"annual-income        0\n",
"dtype: int64\n",
"the number of records after delete missing values: 30162\n",
"\n",
"the number of records before delete missing values: 16281\n",
"the number of missing values by column\n",
"age                 0\n",
"workclass         963\n",
"fnlwgt              0\n",
"education           0\n",
"education-num       0\n",
"marital-status      0\n",
"occupation        966\n",
"relationship        0\n",
"race                0\n",
"sex                 0\n",
"capital-gain        0\n",
"capital-loss        0\n",
"hours-per-week      0\n",
"native-country    274\n",
"annual-income       0\n",
"dtype: int64\n",
"the number of records after delete missing values: 15060\n"
]
}
],
"source": [
"train = load_data('../input/adult/adult.data', col_names, is_data_train=True)\n",
"print('')\n",
"test = load_data('../input/adult/adult.test', col_names, is_data_train=False)"
]
},
{
"cell_type": "code",
"execution_count": 6,
"metadata": {},
"outputs": [
{
"data": {
"text/html": [
"<div>\n",
"<style scoped>\n",
"    .dataframe tbody tr th:only-of-type {\n",
"        vertical-align: middle;\n",
"    }\n",
"\n",
"    .dataframe tbody tr th {\n",
"        vertical-align: top;\n",
"    }\n",
"\n",
"    .dataframe thead th {\n",
"        text-align: right;\n",
"    }\n",
"</style>\n",
"<table border=\"1\" class=\"dataframe\">\n",
"  <thead>\n",
"    <tr style=\"text-align: right;\">\n",
"      <th></th>\n",
"      <th>age</th>\n",
"      <th>workclass</th>\n",
"      <th>fnlwgt</th>\n",
"      <th>education</th>\n",
"      <th>education-num</th>\n",
"      <th>marital-status</th>\n",
"      <th>occupation</th>\n",
"      <th>relationship</th>\n",
"      <th>race</th>\n",
"      <th>sex</th>\n",
"      <th>capital-gain</th>\n",
"      <th>capital-loss</th>\n",
"      <th>hours-per-week</th>\n",
"      <th>native-country</th>\n",
"      <th>annual-income</th>\n",
"    </tr>\n",
"  </thead>\n",
"  <tbody>\n",
"    <tr>\n",
"      <th>0</th>\n",
"      <td>39</td>\n",
"      <td>State-gov</td>\n",
"      <td>77516</td>\n",
"      <td>Bachelors</td>\n",
"      <td>13</td>\n",
"      <td>Never-married</td>\n",
"      <td>Adm-clerical</td>\n",
"      <td>Not-in-family</td>\n",
"      <td>White</td>\n",
"      <td>Male</td>\n",
"      <td>2174</td>\n",
"      <td>0</td>\n",
"      <td>40</td>\n",
"      <td>United-States</td>\n",
"      <td>&lt;=50K</td>\n",
"    </tr>\n",
"    <tr>\n",
"      <th>1</th>\n",
"      <td>50</td>\n",
"      <td>Self-emp-not-inc</td>\n",
"      <td>83311</td>\n",
"      <td>Bachelors</td>\n",
"      <td>13</td>\n",
"      <td>Married-civ-spouse</td>\n",
"      <td>Exec-managerial</td>\n",
"      <td>Husband</td>\n",
"      <td>White</td>\n",
"      <td>Male</td>\n",
"      <td>0</td>\n",
"      <td>0</td>\n",
"      <td>13</td>\n",
"      <td>United-States</td>\n",
"      <td>&lt;=50K</td>\n",
"    </tr>\n",
"    <tr>\n",
"      <th>2</th>\n",
"      <td>38</td>\n",
"      <td>Private</td>\n",
"      <td>215646</td>\n",
"      <td>HS-grad</td>\n",
"      <td>9</td>\n",
"      <td>Divorced</td>\n",
"      <td>Handlers-cleaners</td>\n",
"      <td>Not-in-family</td>\n",
"      <td>White</td>\n",
"      <td>Male</td>\n",
"      <td>0</td>\n",
"      <td>0</td>\n",
"      <td>40</td>\n",
"      <td>United-States</td>\n",
"      <td>&lt;=50K</td>\n",
"    </tr>\n",
"    <tr>\n",
"      <th>3</th>\n",
"      <td>53</td>\n",
"      <td>Private</td>\n",
"      <td>234721</td>\n",
"      <td>11th</td>\n",
"      <td>7</td>\n",
"      <td>Married-civ-spouse</td>\n",
"      <td>Handlers-cleaners</td>\n",
"      <td>Husband</td>\n",
"      <td>Black</td>\n",
"      <td>Male</td>\n",
"      <td>0</td>\n",
"      <td>0</td>\n",
"      <td>40</td>\n",
"      <td>United-States</td>\n",
"      <td>&lt;=50K</td>\n",
"    </tr>\n",
"    <tr>\n",
"      <th>4</th>\n",
"      <td>28</td>\n",
"      <td>Private</td>\n",
"      <td>338409</td>\n",
"      <td>Bachelors</td>\n",
"      <td>13</td>\n",
"      <td>Married-civ-spouse</td>\n",
"      <td>Prof-specialty</td>\n",
"      <td>Wife</td>\n",
"      <td>Black</td>\n",
"      <td>Female</td>\n",
"      <td>0</td>\n",
"      <td>0</td>\n",
"      <td>40</td>\n",
"      <td>Cuba</td>\n",
"      <td>&lt;=50K</td>\n",
"    </tr>\n",
"  </tbody>\n",
"</table>\n",
"</div>"
],
"text/plain": [
"   age          workclass  fnlwgt   education  education-num  \\\n",
"0   39          State-gov   77516   Bachelors             13   \n",
"1   50   Self-emp-not-inc   83311   Bachelors             13   \n",
"2   38            Private  215646     HS-grad              9   \n",
"3   53            Private  234721        11th              7   \n",
"4   28            Private  338409   Bachelors             13   \n",
"\n",
"        marital-status          occupation    relationship    race      sex  \\\n",
"0        Never-married        Adm-clerical   Not-in-family   White     Male   \n",
"1   Married-civ-spouse     Exec-managerial         Husband   White     Male   \n",
"2             Divorced   Handlers-cleaners   Not-in-family   White     Male   \n",
"3   Married-civ-spouse   Handlers-cleaners         Husband   Black     Male   \n",
"4   Married-civ-spouse      Prof-specialty            Wife   Black   Female   \n",
"\n",
"   capital-gain  capital-loss  hours-per-week  native-country annual-income  \n",
"0          2174             0              40   United-States         <=50K  \n",
"1             0             0              13   United-States         <=50K  \n",
"2             0             0              40   United-States         <=50K  \n",
"3             0             0              40   United-States         <=50K  \n",
"4             0             0              40            Cuba         <=50K  "
]
},
"execution_count": 6,
"metadata": {},
"output_type": "execute_result"
}
],
"source": [
"train.head()"
]
},
{
"cell_type": "markdown",
"metadata": {},
"source": [
"## Encoding of categorical variables"
]
},
{
"cell_type": "markdown",
"metadata": {},
"source": [
"Try some encoding methods for categorical variables."
]
},
{
"cell_type": "markdown",
"metadata": {},
"source": [
"### Overview of encoding method"
]
},
{
"cell_type": "markdown",
"metadata": {},
"source": [
"We try to apply 4 encoding methods.\n",
"\n",
"* Encoding method to increase the number of columns\n",
"    * OneHot Encoding\n",
"    * Hash Encoding\n",
"* Encoding methos not to increase the number of columns\n",
"    * Ordinal Encoding\n",
"    * Target Encoding\n",
"    \n",
"Details of each method will be described later.  \n",
"We use [Category Encoder](http://contrib.scikit-learn.org/categorical-encoding/index.html) library to encode categorical variables."
]
},
{
"cell_type": "markdown",
"metadata": {},
"source": [
"### Overview of categorical variables"
]
},
{
"cell_type": "markdown",
"metadata": {},
"source": [
"Get categorical variable from dataset."
]
},
{
"cell_type": "code",
"execution_count": 7,
"metadata": {
"scrolled": true
},
"outputs": [],
"source": [
"# get list of categorical columns\n",
"categorical_columns = [c for c in train.columns if (train[c].dtype == 'object')&(c != 'annual-income')]"
]
},
{
"cell_type": "markdown",
"metadata": {},
"source": [
"The names and number of items of each categorical variable are as follows."
]
},
{
"cell_type": "code",
"execution_count": 8,
"metadata": {},
"outputs": [
{
"name": "stdout",
"output_type": "stream",
"text": [
"column name: workclass\n",
"number of items: 7\n",
"\n",
"column name: education\n",
"number of items: 16\n",
"\n",
"column name: marital-status\n",
"number of items: 7\n",
"\n",
"column name: occupation\n",
"number of items: 14\n",
"\n",
"column name: relationship\n",
"number of items: 6\n",
"\n",
"column name: race\n",
"number of items: 5\n",
"\n",
"column name: sex\n",
"number of items: 2\n",
"\n",
"column name: native-country\n",
"number of items: 41\n",
"\n"
]
}
],
"source": [
"for col in categorical_columns:\n",
"    print('column name: {}'.format(col))\n",
"    print('number of items: {}'.format(train[col].nunique()))\n",
"    print('')"
]
},
{
"cell_type": "markdown",
"metadata": {},
"source": [
"### Encoding method which increase the number of columns"
]
},
{
"cell_type": "markdown",
"metadata": {},
"source": [
"### OneHot Encoding"
]
},
{
"cell_type": "markdown",
"metadata": {},
"source": [
"OneHot Encoding creates a new column for each category, each variable, and each item, 1 if the value of the category variables is that item, and 0 if not.  \n",
"There is a dedicated tutorial for [\"Onehot Conversion for Categorical Data\"](http://www.renom.jp/notebooks/preprocessing/onehot/notebook.html)"
]
},
{
"cell_type": "markdown",
"metadata": {},
"source": [
"<img src='renom_cat_onehot.png'>"
]
},
{
"cell_type": "code",
"execution_count": 9,
"metadata": {},
"outputs": [],
"source": [
"ohe = ce.OneHotEncoder(cols=categorical_columns, handle_unknown='ignore') # handle_unknown: fit譎ゅ↓蟄伜惠縺励↑縺九▲縺滄��岼繧偵←縺�桶縺�°縲∽ｻ雁屓縺ｯ辟｡隕悶☆繧欺n",
"train_ohe = ohe.fit_transform(train)\n",
"test_ohe = ohe.transform(test)"
]
},
{
"cell_type": "markdown",
"metadata": {},
"source": [
"Make sure that the categorical variable is encoded or check the \"workclass\" column as an example."
]
},
{
"cell_type": "code",
"execution_count": 10,
"metadata": {},
"outputs": [
{
"data": {
"text/html": [
"<div>\n",
"<style scoped>\n",
"    .dataframe tbody tr th:only-of-type {\n",
"        vertical-align: middle;\n",
"    }\n",
"\n",
"    .dataframe tbody tr th {\n",
"        vertical-align: top;\n",
"    }\n",
"\n",
"    .dataframe thead th {\n",
"        text-align: right;\n",
"    }\n",
"</style>\n",
"<table border=\"1\" class=\"dataframe\">\n",
"  <thead>\n",
"    <tr style=\"text-align: right;\">\n",
"      <th></th>\n",
"      <th>workclass_before</th>\n",
"      <th>workclass_1</th>\n",
"      <th>workclass_2</th>\n",
"      <th>workclass_3</th>\n",
"      <th>workclass_4</th>\n",
"      <th>workclass_5</th>\n",
"      <th>workclass_6</th>\n",
"      <th>workclass_7</th>\n",
"    </tr>\n",
"  </thead>\n",
"  <tbody>\n",
"    <tr>\n",
"      <th>0</th>\n",
"      <td>State-gov</td>\n",
"      <td>1</td>\n",
"      <td>0</td>\n",
"      <td>0</td>\n",
"      <td>0</td>\n",
"      <td>0</td>\n",
"      <td>0</td>\n",
"      <td>0</td>\n",
"    </tr>\n",
"    <tr>\n",
"      <th>1</th>\n",
"      <td>Self-emp-not-inc</td>\n",
"      <td>0</td>\n",
"      <td>1</td>\n",
"      <td>0</td>\n",
"      <td>0</td>\n",
"      <td>0</td>\n",
"      <td>0</td>\n",
"      <td>0</td>\n",
"    </tr>\n",
"    <tr>\n",
"      <th>2</th>\n",
"      <td>Private</td>\n",
"      <td>0</td>\n",
"      <td>0</td>\n",
"      <td>1</td>\n",
"      <td>0</td>\n",
"      <td>0</td>\n",
"      <td>0</td>\n",
"      <td>0</td>\n",
"    </tr>\n",
"    <tr>\n",
"      <th>3</th>\n",
"      <td>Private</td>\n",
"      <td>0</td>\n",
"      <td>0</td>\n",
"      <td>1</td>\n",
"      <td>0</td>\n",
"      <td>0</td>\n",
"      <td>0</td>\n",
"      <td>0</td>\n",
"    </tr>\n",
"    <tr>\n",
"      <th>4</th>\n",
"      <td>Private</td>\n",
"      <td>0</td>\n",
"      <td>0</td>\n",
"      <td>1</td>\n",
"      <td>0</td>\n",
"      <td>0</td>\n",
"      <td>0</td>\n",
"      <td>0</td>\n",
"    </tr>\n",
"  </tbody>\n",
"</table>\n",
"</div>"
],
"text/plain": [
"    workclass_before  workclass_1  workclass_2  workclass_3  workclass_4  \\\n",
"0          State-gov            1            0            0            0   \n",
"1   Self-emp-not-inc            0            1            0            0   \n",
"2            Private            0            0            1            0   \n",
"3            Private            0            0            1            0   \n",
"4            Private            0            0            1            0   \n",
"\n",
"   workclass_5  workclass_6  workclass_7  \n",
"0            0            0            0  \n",
"1            0            0            0  \n",
"2            0            0            0  \n",
"3            0            0            0  \n",
"4            0            0            0  "
]
},
"metadata": {},
"output_type": "display_data"
}
],
"source": [
"display(pd.concat([train['workclass'].rename('workclass_before'), train_ohe.filter(regex=r'workclass')], axis=1).head())"
]
},
{
"cell_type": "markdown",
"metadata": {},
"source": [
"The leftmost column is before encoding, the right columns are after encoding.  \n",
"You can see that OneHot Encoding is applied.  \n",
"If you want to know which item of which column was converted to which column, you can create a correspondence table."
]
},
{
"cell_type": "code",
"execution_count": 11,
"metadata": {
"code_folding": []
},
"outputs": [],
"source": [
"def get_ordinal_mapping(encoding_instance):\n",
"    map_list = []\n",
"    for col in encoding_instance.category_mapping:\n",
"        for (label, ord_num) in col['mapping']:\n",
"            map_list.append([col['col'], label, ord_num])\n",
"    map_df = pd.DataFrame(map_list, columns=['column', 'label', 'ord_num'])\n",
"    return map_df"
]
},
{
"cell_type": "code",
"execution_count": 12,
"metadata": {
"scrolled": true
},
"outputs": [
{
"data": {
"text/html": [
"<div>\n",
"<style scoped>\n",
"    .dataframe tbody tr th:only-of-type {\n",
"        vertical-align: middle;\n",
"    }\n",
"\n",
"    .dataframe tbody tr th {\n",
"        vertical-align: top;\n",
"    }\n",
"\n",
"    .dataframe thead th {\n",
"        text-align: right;\n",
"    }\n",
"</style>\n",
"<table border=\"1\" class=\"dataframe\">\n",
"  <thead>\n",
"    <tr style=\"text-align: right;\">\n",
"      <th></th>\n",
"      <th>column</th>\n",
"      <th>label</th>\n",
"      <th>ord_num</th>\n",
"    </tr>\n",
"  </thead>\n",
"  <tbody>\n",
"    <tr>\n",
"      <th>0</th>\n",
"      <td>workclass</td>\n",
"      <td>State-gov</td>\n",
"      <td>1</td>\n",
"    </tr>\n",
"    <tr>\n",
"      <th>1</th>\n",
"      <td>workclass</td>\n",
"      <td>Self-emp-not-inc</td>\n",
"      <td>2</td>\n",
"    </tr>\n",
"    <tr>\n",
"      <th>2</th>\n",
"      <td>workclass</td>\n",
"      <td>Private</td>\n",
"      <td>3</td>\n",
"    </tr>\n",
"    <tr>\n",
"      <th>3</th>\n",
"      <td>workclass</td>\n",
"      <td>Federal-gov</td>\n",
"      <td>4</td>\n",
"    </tr>\n",
"    <tr>\n",
"      <th>4</th>\n",
"      <td>workclass</td>\n",
"      <td>Local-gov</td>\n",
"      <td>5</td>\n",
"    </tr>\n",
"    <tr>\n",
"      <th>5</th>\n",
"      <td>workclass</td>\n",
"      <td>Self-emp-inc</td>\n",
"      <td>6</td>\n",
"    </tr>\n",
"    <tr>\n",
"      <th>6</th>\n",
"      <td>workclass</td>\n",
"      <td>Without-pay</td>\n",
"      <td>7</td>\n",
"    </tr>\n",
"    <tr>\n",
"      <th>7</th>\n",
"      <td>education</td>\n",
"      <td>Bachelors</td>\n",
"      <td>1</td>\n",
"    </tr>\n",
"    <tr>\n",
"      <th>8</th>\n",
"      <td>education</td>\n",
"      <td>HS-grad</td>\n",
"      <td>2</td>\n",
"    </tr>\n",
"    <tr>\n",
"      <th>9</th>\n",
"      <td>education</td>\n",
"      <td>11th</td>\n",
"      <td>3</td>\n",
"    </tr>\n",
"  </tbody>\n",
"</table>\n",
"</div>"
],
"text/plain": [
"      column              label  ord_num\n",
"0  workclass          State-gov        1\n",
"1  workclass   Self-emp-not-inc        2\n",
"2  workclass            Private        3\n",
"3  workclass        Federal-gov        4\n",
"4  workclass          Local-gov        5\n",
"5  workclass       Self-emp-inc        6\n",
"6  workclass        Without-pay        7\n",
"7  education          Bachelors        1\n",
"8  education            HS-grad        2\n",
"9  education               11th        3"
]
},
"execution_count": 12,
"metadata": {},
"output_type": "execute_result"
}
],
"source": [
"get_ordinal_mapping(ohe).head(10)"
]
},
{
"cell_type": "markdown",
"metadata": {},
"source": [
"### Hash Encoding"
]
},
{
"cell_type": "markdown",
"metadata": {},
"source": [
"Hash Encoding generates an arbitrary number of integer columns from all the specified categorical variables, using the hash function"
]
},
{
"cell_type": "markdown",
"metadata": {},
"source": [
"<img src='renom_cat_hash.png'>"
]
},
{
"cell_type": "markdown",
"metadata": {},
"source": [
"In the above figure, 2 rows of categorical variables are converted to 4 integer columns through the hash function.  \n",
"First create a zero vector of four columns. (Vector at the lower left of the upper figure)  \n",
"Next, we extract all values of category variables for each individual. (\"State-gov\", \"Male\" in the above figure)  \n",
"And do the following work for all extracted values.  \n",
"* Hash the value, convert it to an integer, and divide it by 4 (the number of columns) to find the remainder. (In the above figure, \"State-gov\" is hashed and the remainder is 2)  \n",
"* Add 1 to the corresponding column of the vector. (1 is added to \"col_2\" in the above figure)"
]
},
{
"cell_type": "code",
"execution_count": 13,
"metadata": {},
"outputs": [],
"source": [
"# n_components=8 means HashingEncoder peform 8-digit hasing\n",
"he = ce.HashingEncoder(cols=categorical_columns, n_components=8)\n",
"train_he = he.fit_transform(train)\n",
"test_he = he.transform(test)"
]
},
{
"cell_type": "code",
"execution_count": 14,
"metadata": {},
"outputs": [
{
"name": "stdout",
"output_type": "stream",
"text": [
"Before Hash Encoding\n"
]
},
{
"data": {
"text/html": [
"<div>\n",
"<style scoped>\n",
"    .dataframe tbody tr th:only-of-type {\n",
"        vertical-align: middle;\n",
"    }\n",
"\n",
"    .dataframe tbody tr th {\n",
"        vertical-align: top;\n",
"    }\n",
"\n",
"    .dataframe thead th {\n",
"        text-align: right;\n",
"    }\n",
"</style>\n",
"<table border=\"1\" class=\"dataframe\">\n",
"  <thead>\n",
"    <tr style=\"text-align: right;\">\n",
"      <th></th>\n",
"      <th>age</th>\n",
"      <th>workclass</th>\n",
"      <th>fnlwgt</th>\n",
"      <th>education</th>\n",
"      <th>education-num</th>\n",
"      <th>marital-status</th>\n",
"      <th>occupation</th>\n",
"      <th>relationship</th>\n",
"      <th>race</th>\n",
"      <th>sex</th>\n",
"      <th>capital-gain</th>\n",
"      <th>capital-loss</th>\n",
"      <th>hours-per-week</th>\n",
"      <th>native-country</th>\n",
"      <th>annual-income</th>\n",
"    </tr>\n",
"  </thead>\n",
"  <tbody>\n",
"    <tr>\n",
"      <th>0</th>\n",
"      <td>39</td>\n",
"      <td>State-gov</td>\n",
"      <td>77516</td>\n",
"      <td>Bachelors</td>\n",
"      <td>13</td>\n",
"      <td>Never-married</td>\n",
"      <td>Adm-clerical</td>\n",
"      <td>Not-in-family</td>\n",
"      <td>White</td>\n",
"      <td>Male</td>\n",
"      <td>2174</td>\n",
"      <td>0</td>\n",
"      <td>40</td>\n",
"      <td>United-States</td>\n",
"      <td>&lt;=50K</td>\n",
"    </tr>\n",
"    <tr>\n",
"      <th>1</th>\n",
"      <td>50</td>\n",
"      <td>Self-emp-not-inc</td>\n",
"      <td>83311</td>\n",
"      <td>Bachelors</td>\n",
"      <td>13</td>\n",
"      <td>Married-civ-spouse</td>\n",
"      <td>Exec-managerial</td>\n",
"      <td>Husband</td>\n",
"      <td>White</td>\n",
"      <td>Male</td>\n",
"      <td>0</td>\n",
"      <td>0</td>\n",
"      <td>13</td>\n",
"      <td>United-States</td>\n",
"      <td>&lt;=50K</td>\n",
"    </tr>\n",
"    <tr>\n",
"      <th>2</th>\n",
"      <td>38</td>\n",
"      <td>Private</td>\n",
"      <td>215646</td>\n",
"      <td>HS-grad</td>\n",
"      <td>9</td>\n",
"      <td>Divorced</td>\n",
"      <td>Handlers-cleaners</td>\n",
"      <td>Not-in-family</td>\n",
"      <td>White</td>\n",
"      <td>Male</td>\n",
"      <td>0</td>\n",
"      <td>0</td>\n",
"      <td>40</td>\n",
"      <td>United-States</td>\n",
"      <td>&lt;=50K</td>\n",
"    </tr>\n",
"    <tr>\n",
"      <th>3</th>\n",
"      <td>53</td>\n",
"      <td>Private</td>\n",
"      <td>234721</td>\n",
"      <td>11th</td>\n",
"      <td>7</td>\n",
"      <td>Married-civ-spouse</td>\n",
"      <td>Handlers-cleaners</td>\n",
"      <td>Husband</td>\n",
"      <td>Black</td>\n",
"      <td>Male</td>\n",
"      <td>0</td>\n",
"      <td>0</td>\n",
"      <td>40</td>\n",
"      <td>United-States</td>\n",
"      <td>&lt;=50K</td>\n",
"    </tr>\n",
"    <tr>\n",
"      <th>4</th>\n",
"      <td>28</td>\n",
"      <td>Private</td>\n",
"      <td>338409</td>\n",
"      <td>Bachelors</td>\n",
"      <td>13</td>\n",
"      <td>Married-civ-spouse</td>\n",
"      <td>Prof-specialty</td>\n",
"      <td>Wife</td>\n",
"      <td>Black</td>\n",
"      <td>Female</td>\n",
"      <td>0</td>\n",
"      <td>0</td>\n",
"      <td>40</td>\n",
"      <td>Cuba</td>\n",
"      <td>&lt;=50K</td>\n",
"    </tr>\n",
"  </tbody>\n",
"</table>\n",
"</div>"
],
"text/plain": [
"   age          workclass  fnlwgt   education  education-num  \\\n",
"0   39          State-gov   77516   Bachelors             13   \n",
"1   50   Self-emp-not-inc   83311   Bachelors             13   \n",
"2   38            Private  215646     HS-grad              9   \n",
"3   53            Private  234721        11th              7   \n",
"4   28            Private  338409   Bachelors             13   \n",
"\n",
"        marital-status          occupation    relationship    race      sex  \\\n",
"0        Never-married        Adm-clerical   Not-in-family   White     Male   \n",
"1   Married-civ-spouse     Exec-managerial         Husband   White     Male   \n",
"2             Divorced   Handlers-cleaners   Not-in-family   White     Male   \n",
"3   Married-civ-spouse   Handlers-cleaners         Husband   Black     Male   \n",
"4   Married-civ-spouse      Prof-specialty            Wife   Black   Female   \n",
"\n",
"   capital-gain  capital-loss  hours-per-week  native-country annual-income  \n",
"0          2174             0              40   United-States         <=50K  \n",
"1             0             0              13   United-States         <=50K  \n",
"2             0             0              40   United-States         <=50K  \n",
"3             0             0              40   United-States         <=50K  \n",
"4             0             0              40            Cuba         <=50K  "
]
},
"metadata": {},
"output_type": "display_data"
},
{
"name": "stdout",
"output_type": "stream",
"text": [
"After Hash Encoding\n"
]
},
{
"data": {
"text/html": [
"<div>\n",
"<style scoped>\n",
"    .dataframe tbody tr th:only-of-type {\n",
"        vertical-align: middle;\n",
"    }\n",
"\n",
"    .dataframe tbody tr th {\n",
"        vertical-align: top;\n",
"    }\n",
"\n",
"    .dataframe thead th {\n",
"        text-align: right;\n",
"    }\n",
"</style>\n",
"<table border=\"1\" class=\"dataframe\">\n",
"  <thead>\n",
"    <tr style=\"text-align: right;\">\n",
"      <th></th>\n",
"      <th>col_0</th>\n",
"      <th>col_1</th>\n",
"      <th>col_2</th>\n",
"      <th>col_3</th>\n",
"      <th>col_4</th>\n",
"      <th>col_5</th>\n",
"      <th>col_6</th>\n",
"      <th>col_7</th>\n",
"      <th>age</th>\n",
"      <th>fnlwgt</th>\n",
"      <th>education-num</th>\n",
"      <th>capital-gain</th>\n",
"      <th>capital-loss</th>\n",
"      <th>hours-per-week</th>\n",
"      <th>annual-income</th>\n",
"    </tr>\n",
"  </thead>\n",
"  <tbody>\n",
"    <tr>\n",
"      <th>0</th>\n",
"      <td>1</td>\n",
"      <td>1</td>\n",
"      <td>2</td>\n",
"      <td>0</td>\n",
"      <td>0</td>\n",
"      <td>2</td>\n",
"      <td>2</td>\n",
"      <td>0</td>\n",
"      <td>39</td>\n",
"      <td>77516</td>\n",
"      <td>13</td>\n",
"      <td>2174</td>\n",
"      <td>0</td>\n",
"      <td>40</td>\n",
"      <td>&lt;=50K</td>\n",
"    </tr>\n",
"    <tr>\n",
"      <th>1</th>\n",
"      <td>1</td>\n",
"      <td>1</td>\n",
"      <td>1</td>\n",
"      <td>1</td>\n",
"      <td>1</td>\n",
"      <td>1</td>\n",
"      <td>2</td>\n",
"      <td>0</td>\n",
"      <td>50</td>\n",
"      <td>83311</td>\n",
"      <td>13</td>\n",
"      <td>0</td>\n",
"      <td>0</td>\n",
"      <td>13</td>\n",
"      <td>&lt;=50K</td>\n",
"    </tr>\n",
"    <tr>\n",
"      <th>2</th>\n",
"      <td>1</td>\n",
"      <td>1</td>\n",
"      <td>0</td>\n",
"      <td>1</td>\n",
"      <td>2</td>\n",
"      <td>0</td>\n",
"      <td>2</td>\n",
"      <td>1</td>\n",
"      <td>38</td>\n",
"      <td>215646</td>\n",
"      <td>9</td>\n",
"      <td>0</td>\n",
"      <td>0</td>\n",
"      <td>40</td>\n",
"      <td>&lt;=50K</td>\n",
"    </tr>\n",
"    <tr>\n",
"      <th>3</th>\n",
"      <td>2</td>\n",
"      <td>2</td>\n",
"      <td>0</td>\n",
"      <td>1</td>\n",
"      <td>1</td>\n",
"      <td>0</td>\n",
"      <td>1</td>\n",
"      <td>1</td>\n",
"      <td>53</td>\n",
"      <td>234721</td>\n",
"      <td>7</td>\n",
"      <td>0</td>\n",
"      <td>0</td>\n",
"      <td>40</td>\n",
"      <td>&lt;=50K</td>\n",
"    </tr>\n",
"    <tr>\n",
"      <th>4</th>\n",
"      <td>1</td>\n",
"      <td>1</td>\n",
"      <td>2</td>\n",
"      <td>1</td>\n",
"      <td>0</td>\n",
"      <td>0</td>\n",
"      <td>2</td>\n",
"      <td>1</td>\n",
"      <td>28</td>\n",
"      <td>338409</td>\n",
"      <td>13</td>\n",
"      <td>0</td>\n",
"      <td>0</td>\n",
"      <td>40</td>\n",
"      <td>&lt;=50K</td>\n",
"    </tr>\n",
"  </tbody>\n",
"</table>\n",
"</div>"
],
"text/plain": [
"   col_0  col_1  col_2  col_3  col_4  col_5  col_6  col_7  age  fnlwgt  \\\n",
"0      1      1      2      0      0      2      2      0   39   77516   \n",
"1      1      1      1      1      1      1      2      0   50   83311   \n",
"2      1      1      0      1      2      0      2      1   38  215646   \n",
"3      2      2      0      1      1      0      1      1   53  234721   \n",
"4      1      1      2      1      0      0      2      1   28  338409   \n",
"\n",
"   education-num  capital-gain  capital-loss  hours-per-week annual-income  \n",
"0             13          2174             0              40         <=50K  \n",
"1             13             0             0              13         <=50K  \n",
"2              9             0             0              40         <=50K  \n",
"3              7             0             0              40         <=50K  \n",
"4             13             0             0              40         <=50K  "
]
},
"metadata": {},
"output_type": "display_data"
}
],
"source": [
"print('Before Hash Encoding')\n",
"display(train.head())\n",
"print('After Hash Encoding')\n",
"display(train_he.head())"
]
},
{
"cell_type": "markdown",
"metadata": {},
"source": [
"Comparing before and after Hash Encoding, you can see that there are no categorical variables and instead 8 columns, 'col_(number)' are are created."
]
},
{
"cell_type": "markdown",
"metadata": {},
"source": [
"### Encoding method without increasing the number of columns"
]
},
{
"cell_type": "markdown",
"metadata": {},
"source": [
"### Ordinal Encoding"
]
},
{
"cell_type": "markdown",
"metadata": {},
"source": [
"Ordinal Encoding creates a column in which serial numbers are assigned corresponding to the number of items in the categorical variable."
]
},
{
"cell_type": "markdown",
"metadata": {},
"source": [
"<img src='renom_cat_ordinal.png'>"
]
},
{
"cell_type": "code",
"execution_count": 15,
"metadata": {
"scrolled": true
},
"outputs": [],
"source": [
"oe = ce.OrdinalEncoder(cols=categorical_columns, handle_unknown='ignore')\n",
"train_oe = oe.fit_transform(train)\n",
"test_oe = oe.transform(test)"
]
},
{
"cell_type": "code",
"execution_count": 16,
"metadata": {},
"outputs": [
{
"data": {
"text/html": [
"<div>\n",
"<style scoped>\n",
"    .dataframe tbody tr th:only-of-type {\n",
"        vertical-align: middle;\n",
"    }\n",
"\n",
"    .dataframe tbody tr th {\n",
"        vertical-align: top;\n",
"    }\n",
"\n",
"    .dataframe thead th {\n",
"        text-align: right;\n",
"    }\n",
"</style>\n",
"<table border=\"1\" class=\"dataframe\">\n",
"  <thead>\n",
"    <tr style=\"text-align: right;\">\n",
"      <th></th>\n",
"      <th>workclsss_before</th>\n",
"      <th>workclass_after</th>\n",
"    </tr>\n",
"  </thead>\n",
"  <tbody>\n",
"    <tr>\n",
"      <th>0</th>\n",
"      <td>State-gov</td>\n",
"      <td>1</td>\n",
"    </tr>\n",
"    <tr>\n",
"      <th>1</th>\n",
"      <td>Self-emp-not-inc</td>\n",
"      <td>2</td>\n",
"    </tr>\n",
"    <tr>\n",
"      <th>2</th>\n",
"      <td>Private</td>\n",
"      <td>3</td>\n",
"    </tr>\n",
"    <tr>\n",
"      <th>3</th>\n",
"      <td>Private</td>\n",
"      <td>3</td>\n",
"    </tr>\n",
"    <tr>\n",
"      <th>4</th>\n",
"      <td>Private</td>\n",
"      <td>3</td>\n",
"    </tr>\n",
"  </tbody>\n",
"</table>\n",
"</div>"
],
"text/plain": [
"    workclsss_before  workclass_after\n",
"0          State-gov                1\n",
"1   Self-emp-not-inc                2\n",
"2            Private                3\n",
"3            Private                3\n",
"4            Private                3"
]
},
"execution_count": 16,
"metadata": {},
"output_type": "execute_result"
}
],
"source": [
"pd.concat([train['workclass'].rename('workclsss_before'), train_oe['workclass'].rename('workclass_after')], axis=1).head()"
]
},
{
"cell_type": "markdown",
"metadata": {},
"source": [
"You can see that serial numbers were given."
]
},
{
"cell_type": "code",
"execution_count": 17,
"metadata": {
"scrolled": true
},
"outputs": [
{
"data": {
"text/html": [
"<div>\n",
"<style scoped>\n",
"    .dataframe tbody tr th:only-of-type {\n",
"        vertical-align: middle;\n",
"    }\n",
"\n",
"    .dataframe tbody tr th {\n",
"        vertical-align: top;\n",
"    }\n",
"\n",
"    .dataframe thead th {\n",
"        text-align: right;\n",
"    }\n",
"</style>\n",
"<table border=\"1\" class=\"dataframe\">\n",
"  <thead>\n",
"    <tr style=\"text-align: right;\">\n",
"      <th></th>\n",
"      <th>column</th>\n",
"      <th>label</th>\n",
"      <th>ord_num</th>\n",
"    </tr>\n",
"  </thead>\n",
"  <tbody>\n",
"    <tr>\n",
"      <th>0</th>\n",
"      <td>workclass</td>\n",
"      <td>State-gov</td>\n",
"      <td>1</td>\n",
"    </tr>\n",
"    <tr>\n",
"      <th>1</th>\n",
"      <td>workclass</td>\n",
"      <td>Self-emp-not-inc</td>\n",
"      <td>2</td>\n",
"    </tr>\n",
"    <tr>\n",
"      <th>2</th>\n",
"      <td>workclass</td>\n",
"      <td>Private</td>\n",
"      <td>3</td>\n",
"    </tr>\n",
"    <tr>\n",
"      <th>3</th>\n",
"      <td>workclass</td>\n",
"      <td>Federal-gov</td>\n",
"      <td>4</td>\n",
"    </tr>\n",
"    <tr>\n",
"      <th>4</th>\n",
"      <td>workclass</td>\n",
"      <td>Local-gov</td>\n",
"      <td>5</td>\n",
"    </tr>\n",
"    <tr>\n",
"      <th>5</th>\n",
"      <td>workclass</td>\n",
"      <td>Self-emp-inc</td>\n",
"      <td>6</td>\n",
"    </tr>\n",
"    <tr>\n",
"      <th>6</th>\n",
"      <td>workclass</td>\n",
"      <td>Without-pay</td>\n",
"      <td>7</td>\n",
"    </tr>\n",
"    <tr>\n",
"      <th>7</th>\n",
"      <td>education</td>\n",
"      <td>Bachelors</td>\n",
"      <td>1</td>\n",
"    </tr>\n",
"    <tr>\n",
"      <th>8</th>\n",
"      <td>education</td>\n",
"      <td>HS-grad</td>\n",
"      <td>2</td>\n",
"    </tr>\n",
"    <tr>\n",
"      <th>9</th>\n",
"      <td>education</td>\n",
"      <td>11th</td>\n",
"      <td>3</td>\n",
"    </tr>\n",
"  </tbody>\n",
"</table>\n",
"</div>"
],
"text/plain": [
"      column              label  ord_num\n",
"0  workclass          State-gov        1\n",
"1  workclass   Self-emp-not-inc        2\n",
"2  workclass            Private        3\n",
"3  workclass        Federal-gov        4\n",
"4  workclass          Local-gov        5\n",
"5  workclass       Self-emp-inc        6\n",
"6  workclass        Without-pay        7\n",
"7  education          Bachelors        1\n",
"8  education            HS-grad        2\n",
"9  education               11th        3"
]
},
"execution_count": 17,
"metadata": {},
"output_type": "execute_result"
}
],
"source": [
"get_ordinal_mapping(oe).head(10)"
]
},
{
"cell_type": "markdown",
"metadata": {},
"source": [
"### Target Encoding"
]
},
{
"cell_type": "markdown",
"metadata": {},
"source": [
"Target Encoding calculates the average of target values for each categorical variable item and substitutes the categorical variable item using that value.  \n",
"In this tutorial, the annual income, which is the objective variable, is 1 for \"over 50,000 dollars\" and 0 for \"less than 50,000 dollars\"."
]
},
{
"cell_type": "markdown",
"metadata": {},
"source": [
"<img src='renom_cat_target.png'>"
]
},
{
"cell_type": "code",
"execution_count": 18,
"metadata": {},
"outputs": [
{
"data": {
"text/plain": [
"array([' <=50K', ' >50K'], dtype=object)"
]
},
"execution_count": 18,
"metadata": {},
"output_type": "execute_result"
}
],
"source": [
"train['annual-income'].unique() # unique items of \"annual-income\""
]
},
{
"cell_type": "code",
"execution_count": 19,
"metadata": {},
"outputs": [],
"source": [
"oe_target = ce.OrdinalEncoder(cols=['annual-income'], mapping=[{'col': 'annual-income', 'mapping': [(' <=50K', 0), (' >50K', 1)]}], handle_unknown='ignore')\n",
"train_target = oe_target.fit_transform(train[['annual-income']])"
]
},
{
"cell_type": "code",
"execution_count": 20,
"metadata": {},
"outputs": [],
"source": [
"te = ce.TargetEncoder(cols=categorical_columns, handle_unknown='ignore')\n",
"train_te = te.fit_transform(train, train_target['annual-income']) # annual income > 50k\n",
"test_te = te.transform(test)"
]
},
{
"cell_type": "code",
"execution_count": 21,
"metadata": {},
"outputs": [
{
"data": {
"text/html": [
"<div>\n",
"<style scoped>\n",
"    .dataframe tbody tr th:only-of-type {\n",
"        vertical-align: middle;\n",
"    }\n",
"\n",
"    .dataframe tbody tr th {\n",
"        vertical-align: top;\n",
"    }\n",
"\n",
"    .dataframe thead th {\n",
"        text-align: right;\n",
"    }\n",
"</style>\n",
"<table border=\"1\" class=\"dataframe\">\n",
"  <thead>\n",
"    <tr style=\"text-align: right;\">\n",
"      <th></th>\n",
"      <th>workclass_before</th>\n",
"      <th>workclass_after</th>\n",
"    </tr>\n",
"  </thead>\n",
"  <tbody>\n",
"    <tr>\n",
"      <th>0</th>\n",
"      <td>State-gov</td>\n",
"      <td>0.268960</td>\n",
"    </tr>\n",
"    <tr>\n",
"      <th>1</th>\n",
"      <td>Self-emp-not-inc</td>\n",
"      <td>0.285714</td>\n",
"    </tr>\n",
"    <tr>\n",
"      <th>2</th>\n",
"      <td>Private</td>\n",
"      <td>0.218792</td>\n",
"    </tr>\n",
"    <tr>\n",
"      <th>3</th>\n",
"      <td>Private</td>\n",
"      <td>0.218792</td>\n",
"    </tr>\n",
"    <tr>\n",
"      <th>4</th>\n",
"      <td>Private</td>\n",
"      <td>0.218792</td>\n",
"    </tr>\n",
"  </tbody>\n",
"</table>\n",
"</div>"
],
"text/plain": [
"    workclass_before  workclass_after\n",
"0          State-gov         0.268960\n",
"1   Self-emp-not-inc         0.285714\n",
"2            Private         0.218792\n",
"3            Private         0.218792\n",
"4            Private         0.218792"
]
},
"execution_count": 21,
"metadata": {},
"output_type": "execute_result"
}
],
"source": [
"pd.concat([train['workclass'].rename('workclass_before'), train_te['workclass'].rename('workclass_after')], axis=1).head()"
]
},
{
"cell_type": "code",
"execution_count": 22,
"metadata": {
"code_folding": [
1
]
},
"outputs": [],
"source": [
"def get_ordinal_mapping_te(encoding_instance):\n",
"    map_list = []\n",
"    for col in encoding_instance.mapping:\n",
"        for (label, statistics) in col['mapping'].items():\n",
"            map_list.append([col['col'], label, statistics['mean']])\n",
"    map_df = pd.DataFrame(map_list, columns=['column', 'label', 'mean'])\n",
"    return map_df"
]
},
{
"cell_type": "code",
"execution_count": 23,
"metadata": {},
"outputs": [
{
"data": {
"text/html": [
"<div>\n",
"<style scoped>\n",
"    .dataframe tbody tr th:only-of-type {\n",
"        vertical-align: middle;\n",
"    }\n",
"\n",
"    .dataframe tbody tr th {\n",
"        vertical-align: top;\n",
"    }\n",
"\n",
"    .dataframe thead th {\n",
"        text-align: right;\n",
"    }\n",
"</style>\n",
"<table border=\"1\" class=\"dataframe\">\n",
"  <thead>\n",
"    <tr style=\"text-align: right;\">\n",
"      <th></th>\n",
"      <th>column</th>\n",
"      <th>label</th>\n",
"      <th>mean</th>\n",
"    </tr>\n",
"  </thead>\n",
"  <tbody>\n",
"    <tr>\n",
"      <th>0</th>\n",
"      <td>workclass</td>\n",
"      <td>Federal-gov</td>\n",
"      <td>0.387063</td>\n",
"    </tr>\n",
"    <tr>\n",
"      <th>1</th>\n",
"      <td>workclass</td>\n",
"      <td>Local-gov</td>\n",
"      <td>0.294630</td>\n",
"    </tr>\n",
"    <tr>\n",
"      <th>2</th>\n",
"      <td>workclass</td>\n",
"      <td>Private</td>\n",
"      <td>0.218792</td>\n",
"    </tr>\n",
"    <tr>\n",
"      <th>3</th>\n",
"      <td>workclass</td>\n",
"      <td>Self-emp-inc</td>\n",
"      <td>0.558659</td>\n",
"    </tr>\n",
"    <tr>\n",
"      <th>4</th>\n",
"      <td>workclass</td>\n",
"      <td>Self-emp-not-inc</td>\n",
"      <td>0.285714</td>\n",
"    </tr>\n",
"    <tr>\n",
"      <th>5</th>\n",
"      <td>workclass</td>\n",
"      <td>State-gov</td>\n",
"      <td>0.268960</td>\n",
"    </tr>\n",
"    <tr>\n",
"      <th>6</th>\n",
"      <td>workclass</td>\n",
"      <td>Without-pay</td>\n",
"      <td>0.000000</td>\n",
"    </tr>\n",
"    <tr>\n",
"      <th>7</th>\n",
"      <td>education</td>\n",
"      <td>10th</td>\n",
"      <td>0.071951</td>\n",
"    </tr>\n",
"    <tr>\n",
"      <th>8</th>\n",
"      <td>education</td>\n",
"      <td>11th</td>\n",
"      <td>0.056298</td>\n",
"    </tr>\n",
"    <tr>\n",
"      <th>9</th>\n",
"      <td>education</td>\n",
"      <td>12th</td>\n",
"      <td>0.076923</td>\n",
"    </tr>\n",
"  </tbody>\n",
"</table>\n",
"</div>"
],
"text/plain": [
"      column              label      mean\n",
"0  workclass        Federal-gov  0.387063\n",
"1  workclass          Local-gov  0.294630\n",
"2  workclass            Private  0.218792\n",
"3  workclass       Self-emp-inc  0.558659\n",
"4  workclass   Self-emp-not-inc  0.285714\n",
"5  workclass          State-gov  0.268960\n",
"6  workclass        Without-pay  0.000000\n",
"7  education               10th  0.071951\n",
"8  education               11th  0.056298\n",
"9  education               12th  0.076923"
]
},
"execution_count": 23,
"metadata": {},
"output_type": "execute_result"
}
],
"source": [
"get_ordinal_mapping_te(te).head(10)"
]
},
{
"cell_type": "markdown",
"metadata": {},
"source": [
"Looking at the correspondence table above, for example, \"Self-emp-inc\" accounts for about 56% of annual income exceeding $ 50,000."
]
},
{
"cell_type": "markdown",
"metadata": {},
"source": [
"## Data processing for input to the model"
]
},
{
"cell_type": "markdown",
"metadata": {},
"source": [
"In order to train the machine learning model, it is necessary to convert the data from pd.DataFrame to np.array.  \n",
"In this tutorial, we are working on a binary classification problem of \"classifying as to whether the annual income y of that person is more than 50,000 dollars or less when giving a person's features X of m columns\".  \n",
"Therefore, train and test dataset is processed as follows.  \n",
"\n",
"X: np.array of n rows, m columns(n: the number of data, m: the number of features)  \n",
"y: np.array of n rows, 2 columns(n: the number of data, 2: types of correct label)"
]
},
{
"cell_type": "markdown",
"metadata": {},
"source": [
"## Processing of feature variables"
]
},
{
"cell_type": "markdown",
"metadata": {},
"source": [
"Drop the target variable from the original data and extract np.array"
]
},
{
"cell_type": "code",
"execution_count": 24,
"metadata": {},
"outputs": [],
"source": [
"X_train_ohe = train_ohe.drop(['annual-income'], axis=1).values\n",
"X_test_ohe = test_ohe.drop(['annual-income'], axis=1).values\n",
"\n",
"X_train_he = train_he.drop(['annual-income'], axis=1).values\n",
"X_test_he = test_he.drop(['annual-income'], axis=1).values\n",
"\n",
"X_train_oe = train_oe.drop(['annual-income'], axis=1).values\n",
"X_test_oe = test_oe.drop(['annual-income'], axis=1).values\n",
"\n",
"X_train_te = train_te.drop(['annual-income'], axis=1).values\n",
"X_test_te = test_te.drop(['annual-income'], axis=1).values"
]
},
{
"cell_type": "markdown",
"metadata": {},
"source": [
"In the neural network model, it works better when the measure of feature quantity is the same.  \n",
"In the [\"Normalization and standardization\"](http://www.renom.jp/notebooks/tutorial/preprocessing/normalization/notebook.html) tutorial, we introduced the improvement of learning speed using standardization, but we can expect the effect of improving the prediction accuracy of the model.  \n",
"Although we will not go deeply in this tutorial, it is a good idea to compare the accuracy with and without normalization or standardization.  \n",
"We will normalize this time."
]
},
{
"cell_type": "code",
"execution_count": 25,
"metadata": {},
"outputs": [],
"source": [
"mms = MinMaxScaler()\n",
"X_train_ohe_mms = mms.fit_transform(X_train_ohe)\n",
"X_test_ohe_mms = mms.transform(X_test_ohe)\n",
"\n",
"X_train_he_mms = mms.fit_transform(X_train_he)\n",
"X_test_he_mms = mms.transform(X_test_he)\n",
"\n",
"X_train_oe_mms = mms.fit_transform(X_train_oe)\n",
"X_test_oe_mms = mms.transform(X_test_oe)\n",
"\n",
"X_train_te_mms = mms.fit_transform(X_train_te)\n",
"X_test_te_mms = mms.transform(X_test_te)"
]
},
{
"cell_type": "markdown",
"metadata": {},
"source": [
"## Processing of target variables"
]
},
{
"cell_type": "markdown",
"metadata": {},
"source": [
"Since the assignment of this time is a binary classification, we divide the objective variable of one column into two columns.  \n",
"Increase it to 2 columns with OneHot Encoding and extract np.array."
]
},
{
"cell_type": "code",
"execution_count": 26,
"metadata": {},
"outputs": [],
"source": [
"ohe_target = ce.OneHotEncoder(cols=['annual-income'], handle_unknown='ignore')\n",
"y_train = ohe_target.fit_transform(train[['annual-income']]).values\n",
"y_test = ohe_target.transform(test[['annual-income']]).values"
]
},
{
"cell_type": "code",
"execution_count": 27,
"metadata": {},
"outputs": [
{
"data": {
"text/html": [
"<div>\n",
"<style scoped>\n",
"    .dataframe tbody tr th:only-of-type {\n",
"        vertical-align: middle;\n",
"    }\n",
"\n",
"    .dataframe tbody tr th {\n",
"        vertical-align: top;\n",
"    }\n",
"\n",
"    .dataframe thead th {\n",
"        text-align: right;\n",
"    }\n",
"</style>\n",
"<table border=\"1\" class=\"dataframe\">\n",
"  <thead>\n",
"    <tr style=\"text-align: right;\">\n",
"      <th></th>\n",
"      <th>column</th>\n",
"      <th>label</th>\n",
"      <th>ord_num</th>\n",
"    </tr>\n",
"  </thead>\n",
"  <tbody>\n",
"    <tr>\n",
"      <th>0</th>\n",
"      <td>annual-income</td>\n",
"      <td>&lt;=50K</td>\n",
"      <td>1</td>\n",
"    </tr>\n",
"    <tr>\n",
"      <th>1</th>\n",
"      <td>annual-income</td>\n",
"      <td>&gt;50K</td>\n",
"      <td>2</td>\n",
"    </tr>\n",
"  </tbody>\n",
"</table>\n",
"</div>"
],
"text/plain": [
"          column   label  ord_num\n",
"0  annual-income   <=50K        1\n",
"1  annual-income    >50K        2"
]
},
"execution_count": 27,
"metadata": {},
"output_type": "execute_result"
}
],
"source": [
"get_ordinal_mapping(ohe_target)"
]
},
{
"cell_type": "code",
"execution_count": 28,
"metadata": {},
"outputs": [
{
"data": {
"text/html": [
"<div>\n",
"<style scoped>\n",
"    .dataframe tbody tr th:only-of-type {\n",
"        vertical-align: middle;\n",
"    }\n",
"\n",
"    .dataframe tbody tr th {\n",
"        vertical-align: top;\n",
"    }\n",
"\n",
"    .dataframe thead th {\n",
"        text-align: right;\n",
"    }\n",
"</style>\n",
"<table border=\"1\" class=\"dataframe\">\n",
"  <thead>\n",
"    <tr style=\"text-align: right;\">\n",
"      <th></th>\n",
"      <th>annual-income_before</th>\n",
"      <th>annual-income_1</th>\n",
"      <th>annual-income_2</th>\n",
"    </tr>\n",
"  </thead>\n",
"  <tbody>\n",
"    <tr>\n",
"      <th>0</th>\n",
"      <td>&lt;=50K</td>\n",
"      <td>1</td>\n",
"      <td>0</td>\n",
"    </tr>\n",
"    <tr>\n",
"      <th>1</th>\n",
"      <td>&lt;=50K</td>\n",
"      <td>1</td>\n",
"      <td>0</td>\n",
"    </tr>\n",
"    <tr>\n",
"      <th>2</th>\n",
"      <td>&lt;=50K</td>\n",
"      <td>1</td>\n",
"      <td>0</td>\n",
"    </tr>\n",
"    <tr>\n",
"      <th>3</th>\n",
"      <td>&lt;=50K</td>\n",
"      <td>1</td>\n",
"      <td>0</td>\n",
"    </tr>\n",
"    <tr>\n",
"      <th>4</th>\n",
"      <td>&lt;=50K</td>\n",
"      <td>1</td>\n",
"      <td>0</td>\n",
"    </tr>\n",
"    <tr>\n",
"      <th>5</th>\n",
"      <td>&lt;=50K</td>\n",
"      <td>1</td>\n",
"      <td>0</td>\n",
"    </tr>\n",
"    <tr>\n",
"      <th>6</th>\n",
"      <td>&lt;=50K</td>\n",
"      <td>1</td>\n",
"      <td>0</td>\n",
"    </tr>\n",
"    <tr>\n",
"      <th>7</th>\n",
"      <td>&gt;50K</td>\n",
"      <td>0</td>\n",
"      <td>1</td>\n",
"    </tr>\n",
"    <tr>\n",
"      <th>8</th>\n",
"      <td>&gt;50K</td>\n",
"      <td>0</td>\n",
"      <td>1</td>\n",
"    </tr>\n",
"    <tr>\n",
"      <th>9</th>\n",
"      <td>&gt;50K</td>\n",
"      <td>0</td>\n",
"      <td>1</td>\n",
"    </tr>\n",
"  </tbody>\n",
"</table>\n",
"</div>"
],
"text/plain": [
"  annual-income_before  annual-income_1  annual-income_2\n",
"0                <=50K                1                0\n",
"1                <=50K                1                0\n",
"2                <=50K                1                0\n",
"3                <=50K                1                0\n",
"4                <=50K                1                0\n",
"5                <=50K                1                0\n",
"6                <=50K                1                0\n",
"7                 >50K                0                1\n",
"8                 >50K                0                1\n",
"9                 >50K                0                1"
]
},
"execution_count": 28,
"metadata": {},
"output_type": "execute_result"
}
],
"source": [
"pd.concat([train['annual-income'].rename('annual-income_before'), ohe_target.fit_transform(train[['annual-income']])], axis=1).head(10)"
]
},
{
"cell_type": "markdown",
"metadata": {},
"source": [
"The leftmost column is encoded in the middle and right two columns.  \n",
"The center and right two columns converted to np.array will be y_train.  "
]
},
{
"cell_type": "code",
"execution_count": 29,
"metadata": {
"scrolled": true
},
"outputs": [
{
"data": {
"text/plain": [
"array([[1, 0],\n",
"       [1, 0],\n",
"       [1, 0],\n",
"       [1, 0],\n",
"       [1, 0],\n",
"       [1, 0],\n",
"       [1, 0],\n",
"       [0, 1],\n",
"       [0, 1],\n",
"       [0, 1]])"
]
},
"execution_count": 29,
"metadata": {},
"output_type": "execute_result"
}
],
"source": [
"y_train[:10, :]"
]
},
{
"cell_type": "markdown",
"metadata": {},
"source": [
"Finally, check the form of the data to enter."
]
},
{
"cell_type": "code",
"execution_count": 30,
"metadata": {},
"outputs": [
{
"name": "stdout",
"output_type": "stream",
"text": [
"Features\n",
"OneHot Encoding: 30162rows, 104columns\n",
"Hash Encoding     : 30162rows, 14columns\n",
"Ordinal Encoding : 30162rows, 14columns\n",
"Target Encoding : 30162rows, 14columns\n",
"\n",
"Target: 30162rows, 2columns\n"
]
}
],
"source": [
"print('Features')\n",
"print('OneHot Encoding: {}rows, {}columns'.format(X_train_ohe_mms.shape[0], X_train_ohe_mms.shape[1]))\n",
"print('Hash Encoding     : {}rows, {}columns'.format(X_train_he_mms.shape[0], X_train_he_mms.shape[1]))\n",
"print('Ordinal Encoding : {}rows, {}columns'.format(X_train_oe_mms.shape[0], X_train_oe_mms.shape[1]))\n",
"print('Target Encoding : {}rows, {}columns'.format(X_train_te_mms.shape[0], X_train_te_mms.shape[1]))\n",
"print('')\n",
"print('Target: {}rows, {}columns'.format(y_train.shape[0], y_train.shape[1]))"
]
},
{
"cell_type": "markdown",
"metadata": {},
"source": [
"## Model definition"
]
},
{
"cell_type": "markdown",
"metadata": {},
"source": [
"We define a model of a multi perceptron with two layers of hidden layers.  \n",
"Make the output layer 2 columns according to y_train.  "
]
},
{
"cell_type": "code",
"execution_count": 31,
"metadata": {},
"outputs": [],
"source": [
"sequential = rm.Sequential([\n",
"    rm.Dense(128),\n",
"    rm.Relu(),\n",
"    rm.Dense(64),\n",
"    rm.Relu(),\n",
"    rm.Dense(2)\n",
"])"
]
},
{
"cell_type": "markdown",
"metadata": {},
"source": [
"## Setting parameters"
]
},
{
"cell_type": "code",
"execution_count": 32,
"metadata": {},
"outputs": [],
"source": [
"epochs = 1000\n",
"batch_size= 128\n",
"period = 10 # early stopping"
]
},
{
"cell_type": "markdown",
"metadata": {},
"source": [
"Early stopping is a technique for preventing overfitting and finding the optimum epochs.  \n",
"In fitting, if test loss does not decrease with a certain number of epochs, learning is interrupted there."
]
},
{
"cell_type": "markdown",
"metadata": {},
"source": [
"## Fitting"
]
},
{
"cell_type": "markdown",
"metadata": {},
"source": [
"Give data made by different category encoding methods to the defined model and verify accuracy."
]
},
{
"cell_type": "code",
"execution_count": 33,
"metadata": {
"code_folding": [
0
]
},
"outputs": [],
"source": [
"def fit(sequential, X_train, y_train, X_test, y_test, epochs=500, batch_size=128, early_stopping=None):\n",
"    # early stopping\n",
"    if early_stopping is not None:\n",
"        es_cnt = 0\n",
"        es_max = early_stopping\n",
"        es_loss = np.inf\n",
"    \n",
"    # learning curve\n",
"    train_learning_curve = []\n",
"    test_learning_curve = []\n",
"    \n",
"    # data size\n",
"    N = len(X_train)\n",
"    \n",
"    # optimizer\n",
"    optimizer = Adam(lr=0.00005)\n",
"    \n",
"    for i in range(epochs):\n",
"        # batch processing\n",
"        perm = np.random.permutation(N)\n",
"        loss = 0\n",
"        for j in range(0, N // batch_size):\n",
"            train_batch = X_train[perm[j*batch_size : (j+1)*batch_size]]\n",
"            response_batch = y_train[perm[j*batch_size : (j + 1)*batch_size]]\n",
"            \n",
"            with sequential.train():\n",
"                l = rm.softmax_cross_entropy(sequential(train_batch), response_batch)\n",
"            grad = l.grad()\n",
"            grad.update(optimizer)\n",
"            loss += l.as_ndarray()\n",
"            \n",
"            sequential.save('../weight/epoch{}_weight.h5'.format(i))\n",
"        \n",
"        #  calculate test_loss\n",
"        test_loss = rm.softmax_cross_entropy(sequential(X_test), y_test).as_ndarray()\n",
"        \n",
"        # contain train_loss and test_loss\n",
"        loss = loss / (N // batch_size)\n",
"        train_learning_curve.append(loss)\n",
"        test_learning_curve.append(test_loss)\n",
"        \n",
"        # early stopping\n",
"        if early_stopping is not None:\n",
"            if test_loss < es_loss:\n",
"                es_loss = test_loss\n",
"                es_cnt = 0\n",
"            else:\n",
"                es_cnt += 1\n",
"            \n",
"            if es_cnt >= es_max:\n",
"                break\n",
"        \n",
"        # print train_loss and test_loss\n",
"        if i % 50 == 0:\n",
"            print('epoch: {:03d}, train_loss:{:.4f},  test_loss:{:.4f}'.format(i, float(loss), float(test_loss)))\n",
"    # contain best iteration\n",
"    if early_stopping is not None:\n",
"        best_iter = i - (early_stopping + 1)\n",
"        best_train_loss = train_learning_curve[-early_stopping-1]\n",
"        best_test_loss = test_learning_curve[-early_stopping-1]\n",
"    else:\n",
"        best_iter = i\n",
"        best_train_loss = loss\n",
"        best_test_loss = test_loss\n",
"    \n",
"    print('All done!')\n",
"    print('Best iteration: {:03d}, Train loss: {:.4f}, Test loss: {:.4f}'.format(best_iter, best_train_loss, best_test_loss))\n",
"    \n",
"    return train_learning_curve, test_learning_curve"
]
},
{
"cell_type": "code",
"execution_count": 34,
"metadata": {
"code_folding": [
0,
1
]
},
"outputs": [],
"source": [
"def plot_learning_curve(train_learning_curve, test_learning_curve, ax=None):\n",
"    if ax is None:\n",
"        fig, ax = plt.subplots(figsize=(12, 8))\n",
"        \n",
"    ax.plot(train_learning_curve, linewidth=1, label='train')\n",
"    ax.plot(test_learning_curve, linewidth=1, label='test')\n",
"    ax.set_xlabel('epoch')\n",
"    ax.set_ylabel('error')\n",
"    ax.legend()\n",
"    if ax is None:\n",
"        plt.show()\n",
"    else:\n",
"        return ax"
]
},
{
"cell_type": "markdown",
"metadata": {},
"source": [
"### OneHot Encoding"
]
},
{
"cell_type": "code",
"execution_count": 35,
"metadata": {},
"outputs": [
{
"name": "stdout",
"output_type": "stream",
"text": [
"epoch: 000, train_loss:0.5263,  test_loss:0.4593\n",
"epoch: 050, train_loss:0.3108,  test_loss:0.3286\n",
"All done!\n",
"Best iteration: 059, Train loss: 0.3067, Test loss: 0.3280\n"
]
}
],
"source": [
"train_learning_curve, test_learning_curve = fit(sequential, X_train_ohe_mms, y_train, X_test_ohe_mms, y_test, epochs, batch_size, period)"
]
},
{
"cell_type": "code",
"execution_count": 36,
"metadata": {},
"outputs": [],
"source": [
"best_test_loss_ohe = test_learning_curve[-(period+1)]"
]
},
{
"cell_type": "code",
"execution_count": 37,
"metadata": {},
"outputs": [
{
"data": {
"text/plain": [
"<matplotlib.axes._subplots.AxesSubplot at 0x1a0ea37668>"
]
},
"execution_count": 37,
"metadata": {},
"output_type": "execute_result"
},
{
"data": {
"image/png": "[encoded data removed]",
"text/plain": [
"<matplotlib.figure.Figure at 0x1a100ba978>"
]
},
"metadata": {},
"output_type": "display_data"
}
],
"source": [
"plot_learning_curve(train_learning_curve, test_learning_curve)"
]
},
{
"cell_type": "markdown",
"metadata": {},
"source": [
"Reset model weight once to verify with multiple data.  \n",
"For details, refer to [\"Saving and Loading Models\"](http://www.renom.jp/notebooks/product/renom_dl/save-model/notebook.html)."
]
},
{
"cell_type": "code",
"execution_count": 38,
"metadata": {},
"outputs": [],
"source": [
"# reset weight params\n",
"for layer in sequential.iter_models():\n",
"    setattr(layer, 'params', {})"
]
},
{
"cell_type": "markdown",
"metadata": {},
"source": [
"### Hash Encoding"
]
},
{
"cell_type": "code",
"execution_count": 39,
"metadata": {},
"outputs": [
{
"name": "stdout",
"output_type": "stream",
"text": [
"epoch: 000, train_loss:0.6348,  test_loss:0.5710\n",
"epoch: 050, train_loss:0.3482,  test_loss:0.3548\n",
"epoch: 100, train_loss:0.3420,  test_loss:0.3504\n",
"epoch: 150, train_loss:0.3393,  test_loss:0.3491\n",
"epoch: 200, train_loss:0.3373,  test_loss:0.3485\n",
"epoch: 250, train_loss:0.3351,  test_loss:0.3478\n",
"epoch: 300, train_loss:0.3339,  test_loss:0.3470\n",
"All done!\n",
"Best iteration: 319, Train loss: 0.3330, Test loss: 0.3468\n"
]
}
],
"source": [
"train_learning_curve, test_learning_curve = fit(sequential, X_train_he_mms, y_train, X_test_he_mms, y_test, epochs, batch_size, period)"
]
},
{
"cell_type": "code",
"execution_count": 40,
"metadata": {},
"outputs": [],
"source": [
"best_test_loss_he = test_learning_curve[-(period+1)]"
]
},
{
"cell_type": "code",
"execution_count": 41,
"metadata": {},
"outputs": [
{
"data": {
"text/plain": [
"<matplotlib.axes._subplots.AxesSubplot at 0x109d640b8>"
]
},
"execution_count": 41,
"metadata": {},
"output_type": "execute_result"
},
{
"data": {
"image/png": "[encoded data removed]",
"text/plain": [
"<matplotlib.figure.Figure at 0x1a0dac8e48>"
]
},
"metadata": {},
"output_type": "display_data"
}
],
"source": [
"plot_learning_curve(train_learning_curve, test_learning_curve)"
]
},
{
"cell_type": "code",
"execution_count": 42,
"metadata": {},
"outputs": [],
"source": [
"# reset weight params\n",
"for layer in sequential.iter_models():\n",
"    setattr(layer, 'params', {})"
]
},
{
"cell_type": "markdown",
"metadata": {},
"source": [
"### Ordinal Encoding"
]
},
{
"cell_type": "code",
"execution_count": 43,
"metadata": {},
"outputs": [
{
"name": "stdout",
"output_type": "stream",
"text": [
"epoch: 000, train_loss:0.6215,  test_loss:0.5616\n",
"epoch: 050, train_loss:0.3331,  test_loss:0.3351\n",
"epoch: 100, train_loss:0.3265,  test_loss:0.3313\n",
"epoch: 150, train_loss:0.3232,  test_loss:0.3302\n",
"epoch: 200, train_loss:0.3205,  test_loss:0.3290\n",
"epoch: 250, train_loss:0.3185,  test_loss:0.3285\n",
"All done!\n",
"Best iteration: 240, Train loss: 0.3188, Test loss: 0.3285\n"
]
}
],
"source": [
"train_learning_curve, test_learning_curve = fit(sequential, X_train_oe_mms, y_train, X_test_oe_mms, y_test, epochs, batch_size, period)"
]
},
{
"cell_type": "code",
"execution_count": 44,
"metadata": {},
"outputs": [],
"source": [
"best_test_loss_oe = test_learning_curve[-(period+1)]"
]
},
{
"cell_type": "code",
"execution_count": 45,
"metadata": {},
"outputs": [
{
"data": {
"text/plain": [
"<matplotlib.axes._subplots.AxesSubplot at 0x1a0e4a55c0>"
]
},
"execution_count": 45,
"metadata": {},
"output_type": "execute_result"
},
{
"data": {
"image/png": "[encoded data removed]",
"text/plain": [
"<matplotlib.figure.Figure at 0x1a0db2d9e8>"
]
},
"metadata": {},
"output_type": "display_data"
}
],
"source": [
"plot_learning_curve(train_learning_curve, test_learning_curve)"
]
},
{
"cell_type": "code",
"execution_count": 46,
"metadata": {},
"outputs": [],
"source": [
"# reset weight params\n",
"for layer in sequential.iter_models():\n",
"    setattr(layer, 'params', {})"
]
},
{
"cell_type": "markdown",
"metadata": {},
"source": [
"### Target Encoding"
]
},
{
"cell_type": "code",
"execution_count": 47,
"metadata": {},
"outputs": [
{
"name": "stdout",
"output_type": "stream",
"text": [
"epoch: 000, train_loss:0.5612,  test_loss:0.5060\n",
"epoch: 050, train_loss:0.3219,  test_loss:0.3256\n",
"epoch: 100, train_loss:0.3176,  test_loss:0.3225\n",
"epoch: 150, train_loss:0.3155,  test_loss:0.3213\n",
"All done!\n",
"Best iteration: 171, Train loss: 0.3153, Test loss: 0.3206\n"
]
}
],
"source": [
"train_learning_curve, test_learning_curve = fit(sequential, X_train_te_mms, y_train, X_test_te_mms, y_test, epochs, batch_size, period)"
]
},
{
"cell_type": "code",
"execution_count": 48,
"metadata": {},
"outputs": [],
"source": [
"best_test_loss_te = test_learning_curve[-(period+1)]"
]
},
{
"cell_type": "code",
"execution_count": 49,
"metadata": {},
"outputs": [
{
"data": {
"text/plain": [
"<matplotlib.axes._subplots.AxesSubplot at 0x1a0e4a2898>"
]
},
"execution_count": 49,
"metadata": {},
"output_type": "execute_result"
},
{
"data": {
"image/png": "[encoded data removed]",
"text/plain": [
"<matplotlib.figure.Figure at 0x1a0e49a1d0>"
]
},
"metadata": {},
"output_type": "display_data"
}
],
"source": [
"plot_learning_curve(train_learning_curve, test_learning_curve)"
]
},
{
"cell_type": "code",
"execution_count": 50,
"metadata": {},
"outputs": [],
"source": [
"# reset weight params\n",
"for layer in sequential.iter_models():\n",
"    setattr(layer, 'params', {})"
]
},
{
"cell_type": "markdown",
"metadata": {},
"source": [
"## Result"
]
},
{
"cell_type": "markdown",
"metadata": {},
"source": [
"Comparing the test loss by encoding of four categorical variables, it became as follows."
]
},
{
"cell_type": "code",
"execution_count": 51,
"metadata": {},
"outputs": [
{
"name": "stdout",
"output_type": "stream",
"text": [
"OneHot Encoding: 0.3280\n",
"Hash Encoding: 0.3468\n",
"Ordinal Encoding: 0.3285\n",
"Target Encoding: 0.3206\n"
]
}
],
"source": [
"print('OneHot Encoding: {:.4f}'.format(best_test_loss_ohe))\n",
"print('Hash Encoding: {:.4f}'.format(best_test_loss_he))\n",
"print('Ordinal Encoding: {:.4f}'.format(best_test_loss_oe))\n",
"print('Target Encoding: {:.4f}'.format(best_test_loss_te))"
]
},
{
"cell_type": "markdown",
"metadata": {},
"source": [
"## Conclusion"
]
},
{
"cell_type": "markdown",
"metadata": {},
"source": [
"The accuracy of Target Encoding was the highest in this experiment.  \n",
"Since OneHot Encoding increases the dimension by the number of items in the category, it is possible to create complicated classification boundary planes, but the vectors become sparse, learning may becomes unstable.  \n",
"Therefore, Target Encoding, which is an encoding method that does not increase the number of columns, seems to be more accurate.  \n",
"If OneHot Encoding is used for category variables with a large number of items, it may be better to combine PCA or Embedding to reduce dimension.  \n",
"Reference) [Application of Entity Embedding Layer\n",
"](http://www.renom.jp/notebooks/tutorial/embedding/entity_embedding/notebook.html)"
]
}
],
"metadata": {
"kernelspec": {
"display_name": "Python 3",
"language": "python",
"name": "python3"
},
"language_info": {
"codemirror_mode": {
"name": "ipython",
"version": 3
},
"file_extension": ".py",
"mimetype": "text/x-python",
"name": "python",
"nbconvert_exporter": "python",
"pygments_lexer": "ipython3",
"version": "3.5.2"
},
"toc": {
"nav_menu": {},
"number_sections": true,
"sideBar": true,
"skip_h1_title": false,
"toc_cell": false,
"toc_position": {},
"toc_section_display": "block",
"toc_window_display": false
}
},
"nbformat": 4,
"nbformat_minor": 2
}